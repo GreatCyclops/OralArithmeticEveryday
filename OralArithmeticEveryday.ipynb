{
 "cells": [
  {
   "cell_type": "code",
   "execution_count": 17,
   "metadata": {},
   "outputs": [
    {
     "name": "stdout",
     "output_type": "stream",
     "text": [
      "\n"
     ]
    }
   ],
   "source": [
    "# 生成20以内加减乘除各25道，共100道\n",
    "import random\n",
    "print()\n",
    "file=open('OralArithmeticEveryday_python.txt',mode='w')\n",
    "for i in range(25):\n",
    "    a = random.randint(1,20)\n",
    "    b = random.randint(1,20)\n",
    "    file.write(str(a) + '+' + str(b) + '=\\n')  \n",
    "for i in range(25):\n",
    "    a = random.randint(1,20)\n",
    "    b = random.randint(1,20)\n",
    "    file.write(str(a) + '-' + str(b) + '=\\n')\n",
    "for i in range(25):\n",
    "    a = random.randint(1,20)\n",
    "    b = random.randint(1,20)\n",
    "    file.write(str(a) + '×' + str(b) + '=\\n')\n",
    "for i in range(25):\n",
    "    a = random.randint(1,20)\n",
    "    b = random.randint(1,20)\n",
    "    file.write(str(a) + '÷' + str(b) + '=\\n')\n",
    "file.close()"
   ]
  },
  {
   "cell_type": "code",
   "execution_count": null,
   "metadata": {},
   "outputs": [],
   "source": []
  }
 ],
 "metadata": {
  "kernelspec": {
   "display_name": "Python 3",
   "language": "python",
   "name": "python3"
  },
  "language_info": {
   "codemirror_mode": {
    "name": "ipython",
    "version": 3
   },
   "file_extension": ".py",
   "mimetype": "text/x-python",
   "name": "python",
   "nbconvert_exporter": "python",
   "pygments_lexer": "ipython3",
   "version": "3.8.3"
  }
 },
 "nbformat": 4,
 "nbformat_minor": 4
}
